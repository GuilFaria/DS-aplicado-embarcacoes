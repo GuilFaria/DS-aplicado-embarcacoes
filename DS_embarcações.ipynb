{
  "nbformat": 4,
  "nbformat_minor": 0,
  "metadata": {
    "colab": {
      "provenance": []
    },
    "kernelspec": {
      "name": "python3",
      "display_name": "Python 3"
    },
    "language_info": {
      "name": "python"
    }
  },
  "cells": [
    {
      "cell_type": "markdown",
      "source": [
        "<center><h1>Data Science</h1>\n",
        "<h2>Aplicado a base de dados de embarcações</h2></center>\n",
        "\n",
        "---\n",
        "<h3>Introdução</h3>\n",
        "\n",
        "<p1>Neste projeto introdutório sobre Data Science, devemos analisar um Data Frame e \n",
        "apresentar previsões de Preço de embarcações, entendendo as principais correlações entre os atributos dos veículos vendidos e modelando sistema de aprendizagem de máquina.\n",
        "\n",
        "Para isso, foi realizado passo a passo das metodologias de criação para um modelo de análise, além da utilização de técnicas simples em ciência de dados, como a revisão de problema de negócio, entendimento do negócio, análise exploratória e afins.</p1>"
      ],
      "metadata": {
        "id": "HNfIc_Veazeq"
      }
    },
    {
      "cell_type": "code",
      "source": [
        "# Passo a Passo\n",
        "\n",
        "# Passo 1: Entendimento do negócio;\n",
        "\n",
        "# Passo 2: Entendimento do ambiente organizacional;\n"
      ],
      "metadata": {
        "id": "JpHaCNw9k0lr"
      },
      "execution_count": null,
      "outputs": []
    },
    {
      "cell_type": "code",
      "source": [
        "# Passo 3: Extração/Obtenção de dados;\n",
        "import pandas as pd\n",
        "\n",
        "tabela = pd.read_csv('barcos_ref.csv')\n",
        "display(tabela)\n"
      ],
      "metadata": {
        "id": "tsh3rZvsfJmE",
        "colab": {
          "base_uri": "https://localhost:8080/",
          "height": 423
        },
        "outputId": "e8e8453d-85b7-4050-ab7c-24eca2a326f5"
      },
      "execution_count": 2,
      "outputs": [
        {
          "output_type": "display_data",
          "data": {
            "text/plain": [
              "      Preco  TipoBarco  TipoVenda   Ano  Comprimento  Largura  Material\n",
              "0      3490          1          1  2020         4.00     1.50         1\n",
              "1      3399          2          1  2019         3.55     1.46         2\n",
              "2      3600          3          2  1999         6.20     2.38         2\n",
              "3      3500          2          2  1987         4.35     1.75         3\n",
              "4      3500          4          2  2004         4.70     2.00         3\n",
              "...     ...        ...        ...   ...          ...      ...       ...\n",
              "7644   5000          7          2  1974         7.20     2.70         3\n",
              "7645   4999          4          2  1980         6.00     2.10         3\n",
              "7646   4950          2          2  1984         6.00     1.62         5\n",
              "7647   4499          4          1  2020         4.40     1.80         3\n",
              "7648   3780          2          1  2019         3.60     1.60         3\n",
              "\n",
              "[7649 rows x 7 columns]"
            ],
            "text/html": [
              "\n",
              "  <div id=\"df-b740fa02-f138-4001-ad7c-61e0983bd89e\">\n",
              "    <div class=\"colab-df-container\">\n",
              "      <div>\n",
              "<style scoped>\n",
              "    .dataframe tbody tr th:only-of-type {\n",
              "        vertical-align: middle;\n",
              "    }\n",
              "\n",
              "    .dataframe tbody tr th {\n",
              "        vertical-align: top;\n",
              "    }\n",
              "\n",
              "    .dataframe thead th {\n",
              "        text-align: right;\n",
              "    }\n",
              "</style>\n",
              "<table border=\"1\" class=\"dataframe\">\n",
              "  <thead>\n",
              "    <tr style=\"text-align: right;\">\n",
              "      <th></th>\n",
              "      <th>Preco</th>\n",
              "      <th>TipoBarco</th>\n",
              "      <th>TipoVenda</th>\n",
              "      <th>Ano</th>\n",
              "      <th>Comprimento</th>\n",
              "      <th>Largura</th>\n",
              "      <th>Material</th>\n",
              "    </tr>\n",
              "  </thead>\n",
              "  <tbody>\n",
              "    <tr>\n",
              "      <th>0</th>\n",
              "      <td>3490</td>\n",
              "      <td>1</td>\n",
              "      <td>1</td>\n",
              "      <td>2020</td>\n",
              "      <td>4.00</td>\n",
              "      <td>1.50</td>\n",
              "      <td>1</td>\n",
              "    </tr>\n",
              "    <tr>\n",
              "      <th>1</th>\n",
              "      <td>3399</td>\n",
              "      <td>2</td>\n",
              "      <td>1</td>\n",
              "      <td>2019</td>\n",
              "      <td>3.55</td>\n",
              "      <td>1.46</td>\n",
              "      <td>2</td>\n",
              "    </tr>\n",
              "    <tr>\n",
              "      <th>2</th>\n",
              "      <td>3600</td>\n",
              "      <td>3</td>\n",
              "      <td>2</td>\n",
              "      <td>1999</td>\n",
              "      <td>6.20</td>\n",
              "      <td>2.38</td>\n",
              "      <td>2</td>\n",
              "    </tr>\n",
              "    <tr>\n",
              "      <th>3</th>\n",
              "      <td>3500</td>\n",
              "      <td>2</td>\n",
              "      <td>2</td>\n",
              "      <td>1987</td>\n",
              "      <td>4.35</td>\n",
              "      <td>1.75</td>\n",
              "      <td>3</td>\n",
              "    </tr>\n",
              "    <tr>\n",
              "      <th>4</th>\n",
              "      <td>3500</td>\n",
              "      <td>4</td>\n",
              "      <td>2</td>\n",
              "      <td>2004</td>\n",
              "      <td>4.70</td>\n",
              "      <td>2.00</td>\n",
              "      <td>3</td>\n",
              "    </tr>\n",
              "    <tr>\n",
              "      <th>...</th>\n",
              "      <td>...</td>\n",
              "      <td>...</td>\n",
              "      <td>...</td>\n",
              "      <td>...</td>\n",
              "      <td>...</td>\n",
              "      <td>...</td>\n",
              "      <td>...</td>\n",
              "    </tr>\n",
              "    <tr>\n",
              "      <th>7644</th>\n",
              "      <td>5000</td>\n",
              "      <td>7</td>\n",
              "      <td>2</td>\n",
              "      <td>1974</td>\n",
              "      <td>7.20</td>\n",
              "      <td>2.70</td>\n",
              "      <td>3</td>\n",
              "    </tr>\n",
              "    <tr>\n",
              "      <th>7645</th>\n",
              "      <td>4999</td>\n",
              "      <td>4</td>\n",
              "      <td>2</td>\n",
              "      <td>1980</td>\n",
              "      <td>6.00</td>\n",
              "      <td>2.10</td>\n",
              "      <td>3</td>\n",
              "    </tr>\n",
              "    <tr>\n",
              "      <th>7646</th>\n",
              "      <td>4950</td>\n",
              "      <td>2</td>\n",
              "      <td>2</td>\n",
              "      <td>1984</td>\n",
              "      <td>6.00</td>\n",
              "      <td>1.62</td>\n",
              "      <td>5</td>\n",
              "    </tr>\n",
              "    <tr>\n",
              "      <th>7647</th>\n",
              "      <td>4499</td>\n",
              "      <td>4</td>\n",
              "      <td>1</td>\n",
              "      <td>2020</td>\n",
              "      <td>4.40</td>\n",
              "      <td>1.80</td>\n",
              "      <td>3</td>\n",
              "    </tr>\n",
              "    <tr>\n",
              "      <th>7648</th>\n",
              "      <td>3780</td>\n",
              "      <td>2</td>\n",
              "      <td>1</td>\n",
              "      <td>2019</td>\n",
              "      <td>3.60</td>\n",
              "      <td>1.60</td>\n",
              "      <td>3</td>\n",
              "    </tr>\n",
              "  </tbody>\n",
              "</table>\n",
              "<p>7649 rows × 7 columns</p>\n",
              "</div>\n",
              "      <button class=\"colab-df-convert\" onclick=\"convertToInteractive('df-b740fa02-f138-4001-ad7c-61e0983bd89e')\"\n",
              "              title=\"Convert this dataframe to an interactive table.\"\n",
              "              style=\"display:none;\">\n",
              "        \n",
              "  <svg xmlns=\"http://www.w3.org/2000/svg\" height=\"24px\"viewBox=\"0 0 24 24\"\n",
              "       width=\"24px\">\n",
              "    <path d=\"M0 0h24v24H0V0z\" fill=\"none\"/>\n",
              "    <path d=\"M18.56 5.44l.94 2.06.94-2.06 2.06-.94-2.06-.94-.94-2.06-.94 2.06-2.06.94zm-11 1L8.5 8.5l.94-2.06 2.06-.94-2.06-.94L8.5 2.5l-.94 2.06-2.06.94zm10 10l.94 2.06.94-2.06 2.06-.94-2.06-.94-.94-2.06-.94 2.06-2.06.94z\"/><path d=\"M17.41 7.96l-1.37-1.37c-.4-.4-.92-.59-1.43-.59-.52 0-1.04.2-1.43.59L10.3 9.45l-7.72 7.72c-.78.78-.78 2.05 0 2.83L4 21.41c.39.39.9.59 1.41.59.51 0 1.02-.2 1.41-.59l7.78-7.78 2.81-2.81c.8-.78.8-2.07 0-2.86zM5.41 20L4 18.59l7.72-7.72 1.47 1.35L5.41 20z\"/>\n",
              "  </svg>\n",
              "      </button>\n",
              "      \n",
              "  <style>\n",
              "    .colab-df-container {\n",
              "      display:flex;\n",
              "      flex-wrap:wrap;\n",
              "      gap: 12px;\n",
              "    }\n",
              "\n",
              "    .colab-df-convert {\n",
              "      background-color: #E8F0FE;\n",
              "      border: none;\n",
              "      border-radius: 50%;\n",
              "      cursor: pointer;\n",
              "      display: none;\n",
              "      fill: #1967D2;\n",
              "      height: 32px;\n",
              "      padding: 0 0 0 0;\n",
              "      width: 32px;\n",
              "    }\n",
              "\n",
              "    .colab-df-convert:hover {\n",
              "      background-color: #E2EBFA;\n",
              "      box-shadow: 0px 1px 2px rgba(60, 64, 67, 0.3), 0px 1px 3px 1px rgba(60, 64, 67, 0.15);\n",
              "      fill: #174EA6;\n",
              "    }\n",
              "\n",
              "    [theme=dark] .colab-df-convert {\n",
              "      background-color: #3B4455;\n",
              "      fill: #D2E3FC;\n",
              "    }\n",
              "\n",
              "    [theme=dark] .colab-df-convert:hover {\n",
              "      background-color: #434B5C;\n",
              "      box-shadow: 0px 1px 3px 1px rgba(0, 0, 0, 0.15);\n",
              "      filter: drop-shadow(0px 1px 2px rgba(0, 0, 0, 0.3));\n",
              "      fill: #FFFFFF;\n",
              "    }\n",
              "  </style>\n",
              "\n",
              "      <script>\n",
              "        const buttonEl =\n",
              "          document.querySelector('#df-b740fa02-f138-4001-ad7c-61e0983bd89e button.colab-df-convert');\n",
              "        buttonEl.style.display =\n",
              "          google.colab.kernel.accessAllowed ? 'block' : 'none';\n",
              "\n",
              "        async function convertToInteractive(key) {\n",
              "          const element = document.querySelector('#df-b740fa02-f138-4001-ad7c-61e0983bd89e');\n",
              "          const dataTable =\n",
              "            await google.colab.kernel.invokeFunction('convertToInteractive',\n",
              "                                                     [key], {});\n",
              "          if (!dataTable) return;\n",
              "\n",
              "          const docLinkHtml = 'Like what you see? Visit the ' +\n",
              "            '<a target=\"_blank\" href=https://colab.research.google.com/notebooks/data_table.ipynb>data table notebook</a>'\n",
              "            + ' to learn more about interactive tables.';\n",
              "          element.innerHTML = '';\n",
              "          dataTable['output_type'] = 'display_data';\n",
              "          await google.colab.output.renderOutput(dataTable, element);\n",
              "          const docLink = document.createElement('div');\n",
              "          docLink.innerHTML = docLinkHtml;\n",
              "          element.appendChild(docLink);\n",
              "        }\n",
              "      </script>\n",
              "    </div>\n",
              "  </div>\n",
              "  "
            ]
          },
          "metadata": {}
        }
      ]
    },
    {
      "cell_type": "code",
      "source": [
        "# Passo 4: Data Clean (Tratamento dos dados);\n",
        "tabela.info()\n"
      ],
      "metadata": {
        "colab": {
          "base_uri": "https://localhost:8080/"
        },
        "id": "ysJ4h70_lf-P",
        "outputId": "44a07b65-503f-4615-de19-022618e7778f"
      },
      "execution_count": 7,
      "outputs": [
        {
          "output_type": "stream",
          "name": "stdout",
          "text": [
            "<class 'pandas.core.frame.DataFrame'>\n",
            "RangeIndex: 7649 entries, 0 to 7648\n",
            "Data columns (total 7 columns):\n",
            " #   Column       Non-Null Count  Dtype  \n",
            "---  ------       --------------  -----  \n",
            " 0   Preco        7649 non-null   int64  \n",
            " 1   TipoBarco    7649 non-null   int64  \n",
            " 2   TipoVenda    7649 non-null   int64  \n",
            " 3   Ano          7649 non-null   int64  \n",
            " 4   Comprimento  7649 non-null   float64\n",
            " 5   Largura      7649 non-null   float64\n",
            " 6   Material     7649 non-null   int64  \n",
            "dtypes: float64(2), int64(5)\n",
            "memory usage: 418.4 KB\n"
          ]
        }
      ]
    },
    {
      "cell_type": "code",
      "source": [
        "# Passo 5: Exploratory Analisys (Análise exploratória);\n",
        "import seaborn as sns\n",
        "import matplotlib.pyplot as plt\n",
        "\n",
        "display(tabela.corr()[['Preco']])\n",
        "sns.heatmap(data=tabela.corr()[['Preco']], cmap=\"Purples\", annot = True, fmt='.2f')\n",
        "plt.show()"
      ],
      "metadata": {
        "colab": {
          "base_uri": "https://localhost:8080/",
          "height": 687
        },
        "id": "AN0pEdUOmWex",
        "outputId": "91b2af7b-9277-42de-e017-f77ba839d978"
      },
      "execution_count": 29,
      "outputs": [
        {
          "output_type": "display_data",
          "data": {
            "text/plain": [
              "                Preco\n",
              "Preco        1.000000\n",
              "TipoBarco    0.293137\n",
              "TipoVenda    0.041266\n",
              "Ano          0.113385\n",
              "Comprimento  0.578353\n",
              "Largura      0.557621\n",
              "Material    -0.036476"
            ],
            "text/html": [
              "\n",
              "  <div id=\"df-a100d330-6675-4949-8645-dc913da55689\">\n",
              "    <div class=\"colab-df-container\">\n",
              "      <div>\n",
              "<style scoped>\n",
              "    .dataframe tbody tr th:only-of-type {\n",
              "        vertical-align: middle;\n",
              "    }\n",
              "\n",
              "    .dataframe tbody tr th {\n",
              "        vertical-align: top;\n",
              "    }\n",
              "\n",
              "    .dataframe thead th {\n",
              "        text-align: right;\n",
              "    }\n",
              "</style>\n",
              "<table border=\"1\" class=\"dataframe\">\n",
              "  <thead>\n",
              "    <tr style=\"text-align: right;\">\n",
              "      <th></th>\n",
              "      <th>Preco</th>\n",
              "    </tr>\n",
              "  </thead>\n",
              "  <tbody>\n",
              "    <tr>\n",
              "      <th>Preco</th>\n",
              "      <td>1.000000</td>\n",
              "    </tr>\n",
              "    <tr>\n",
              "      <th>TipoBarco</th>\n",
              "      <td>0.293137</td>\n",
              "    </tr>\n",
              "    <tr>\n",
              "      <th>TipoVenda</th>\n",
              "      <td>0.041266</td>\n",
              "    </tr>\n",
              "    <tr>\n",
              "      <th>Ano</th>\n",
              "      <td>0.113385</td>\n",
              "    </tr>\n",
              "    <tr>\n",
              "      <th>Comprimento</th>\n",
              "      <td>0.578353</td>\n",
              "    </tr>\n",
              "    <tr>\n",
              "      <th>Largura</th>\n",
              "      <td>0.557621</td>\n",
              "    </tr>\n",
              "    <tr>\n",
              "      <th>Material</th>\n",
              "      <td>-0.036476</td>\n",
              "    </tr>\n",
              "  </tbody>\n",
              "</table>\n",
              "</div>\n",
              "      <button class=\"colab-df-convert\" onclick=\"convertToInteractive('df-a100d330-6675-4949-8645-dc913da55689')\"\n",
              "              title=\"Convert this dataframe to an interactive table.\"\n",
              "              style=\"display:none;\">\n",
              "        \n",
              "  <svg xmlns=\"http://www.w3.org/2000/svg\" height=\"24px\"viewBox=\"0 0 24 24\"\n",
              "       width=\"24px\">\n",
              "    <path d=\"M0 0h24v24H0V0z\" fill=\"none\"/>\n",
              "    <path d=\"M18.56 5.44l.94 2.06.94-2.06 2.06-.94-2.06-.94-.94-2.06-.94 2.06-2.06.94zm-11 1L8.5 8.5l.94-2.06 2.06-.94-2.06-.94L8.5 2.5l-.94 2.06-2.06.94zm10 10l.94 2.06.94-2.06 2.06-.94-2.06-.94-.94-2.06-.94 2.06-2.06.94z\"/><path d=\"M17.41 7.96l-1.37-1.37c-.4-.4-.92-.59-1.43-.59-.52 0-1.04.2-1.43.59L10.3 9.45l-7.72 7.72c-.78.78-.78 2.05 0 2.83L4 21.41c.39.39.9.59 1.41.59.51 0 1.02-.2 1.41-.59l7.78-7.78 2.81-2.81c.8-.78.8-2.07 0-2.86zM5.41 20L4 18.59l7.72-7.72 1.47 1.35L5.41 20z\"/>\n",
              "  </svg>\n",
              "      </button>\n",
              "      \n",
              "  <style>\n",
              "    .colab-df-container {\n",
              "      display:flex;\n",
              "      flex-wrap:wrap;\n",
              "      gap: 12px;\n",
              "    }\n",
              "\n",
              "    .colab-df-convert {\n",
              "      background-color: #E8F0FE;\n",
              "      border: none;\n",
              "      border-radius: 50%;\n",
              "      cursor: pointer;\n",
              "      display: none;\n",
              "      fill: #1967D2;\n",
              "      height: 32px;\n",
              "      padding: 0 0 0 0;\n",
              "      width: 32px;\n",
              "    }\n",
              "\n",
              "    .colab-df-convert:hover {\n",
              "      background-color: #E2EBFA;\n",
              "      box-shadow: 0px 1px 2px rgba(60, 64, 67, 0.3), 0px 1px 3px 1px rgba(60, 64, 67, 0.15);\n",
              "      fill: #174EA6;\n",
              "    }\n",
              "\n",
              "    [theme=dark] .colab-df-convert {\n",
              "      background-color: #3B4455;\n",
              "      fill: #D2E3FC;\n",
              "    }\n",
              "\n",
              "    [theme=dark] .colab-df-convert:hover {\n",
              "      background-color: #434B5C;\n",
              "      box-shadow: 0px 1px 3px 1px rgba(0, 0, 0, 0.15);\n",
              "      filter: drop-shadow(0px 1px 2px rgba(0, 0, 0, 0.3));\n",
              "      fill: #FFFFFF;\n",
              "    }\n",
              "  </style>\n",
              "\n",
              "      <script>\n",
              "        const buttonEl =\n",
              "          document.querySelector('#df-a100d330-6675-4949-8645-dc913da55689 button.colab-df-convert');\n",
              "        buttonEl.style.display =\n",
              "          google.colab.kernel.accessAllowed ? 'block' : 'none';\n",
              "\n",
              "        async function convertToInteractive(key) {\n",
              "          const element = document.querySelector('#df-a100d330-6675-4949-8645-dc913da55689');\n",
              "          const dataTable =\n",
              "            await google.colab.kernel.invokeFunction('convertToInteractive',\n",
              "                                                     [key], {});\n",
              "          if (!dataTable) return;\n",
              "\n",
              "          const docLinkHtml = 'Like what you see? Visit the ' +\n",
              "            '<a target=\"_blank\" href=https://colab.research.google.com/notebooks/data_table.ipynb>data table notebook</a>'\n",
              "            + ' to learn more about interactive tables.';\n",
              "          element.innerHTML = '';\n",
              "          dataTable['output_type'] = 'display_data';\n",
              "          await google.colab.output.renderOutput(dataTable, element);\n",
              "          const docLink = document.createElement('div');\n",
              "          docLink.innerHTML = docLinkHtml;\n",
              "          element.appendChild(docLink);\n",
              "        }\n",
              "      </script>\n",
              "    </div>\n",
              "  </div>\n",
              "  "
            ]
          },
          "metadata": {}
        },
        {
          "output_type": "display_data",
          "data": {
            "text/plain": [
              "<Figure size 640x480 with 2 Axes>"
            ],
            "image/png": "[encoded data removed]"
          },
          "metadata": {}
        }
      ]
    },
    {
      "cell_type": "code",
      "source": [
        "# Passo 6: Modelagem dos algorítmos de machine learning;\n",
        "# Dividir DataFrame em matriz X e Y\n",
        "y = pd.DataFrame()\n",
        "y = tabela['Preco']\n",
        "\n",
        "x = pd.DataFrame()\n",
        "x = tabela.drop(['Preco'], axis=1)\n",
        "print(x)\n",
        "print(y)\n",
        "# Preparar tabelas testes e treinos:\n",
        "from sklearn.model_selection import train_test_split\n",
        "x_treino, x_teste, y_treino, y_teste = train_test_split(x, y, test_size=0.35)\n",
        "\n",
        "#Preparar modelo\n",
        "from sklearn.linear_model import LinearRegression\n",
        "from sklearn.ensemble import RandomForestRegressor\n",
        "\n",
        "modelo_RL = LinearRegression()\n",
        "modelo_AD = RandomForestRegressor()\n",
        "\n",
        "modelo_RL.fit(x_treino, y_treino)\n",
        "modelo_AD.fit(x_treino, y_treino)"
      ],
      "metadata": {
        "colab": {
          "base_uri": "https://localhost:8080/",
          "height": 549
        },
        "id": "274oBvJIq-LJ",
        "outputId": "bf6e3af8-97e1-43dd-9fb0-9d40e871e32c"
      },
      "execution_count": 39,
      "outputs": [
        {
          "output_type": "stream",
          "name": "stdout",
          "text": [
            "      TipoBarco  TipoVenda   Ano  Comprimento  Largura  Material\n",
            "0             1          1  2020         4.00     1.50         1\n",
            "1             2          1  2019         3.55     1.46         2\n",
            "2             3          2  1999         6.20     2.38         2\n",
            "3             2          2  1987         4.35     1.75         3\n",
            "4             4          2  2004         4.70     2.00         3\n",
            "...         ...        ...   ...          ...      ...       ...\n",
            "7644          7          2  1974         7.20     2.70         3\n",
            "7645          4          2  1980         6.00     2.10         3\n",
            "7646          2          2  1984         6.00     1.62         5\n",
            "7647          4          1  2020         4.40     1.80         3\n",
            "7648          2          1  2019         3.60     1.60         3\n",
            "\n",
            "[7649 rows x 6 columns]\n",
            "0       3490\n",
            "1       3399\n",
            "2       3600\n",
            "3       3500\n",
            "4       3500\n",
            "        ... \n",
            "7644    5000\n",
            "7645    4999\n",
            "7646    4950\n",
            "7647    4499\n",
            "7648    3780\n",
            "Name: Preco, Length: 7649, dtype: int64\n"
          ]
        },
        {
          "output_type": "execute_result",
          "data": {
            "text/plain": [
              "RandomForestRegressor()"
            ],
            "text/html": [
              "<style>#sk-container-id-1 {color: black;background-color: white;}#sk-container-id-1 pre{padding: 0;}#sk-container-id-1 div.sk-toggleable {background-color: white;}#sk-container-id-1 label.sk-toggleable__label {cursor: pointer;display: block;width: 100%;margin-bottom: 0;padding: 0.3em;box-sizing: border-box;text-align: center;}#sk-container-id-1 label.sk-toggleable__label-arrow:before {content: \"▸\";float: left;margin-right: 0.25em;color: #696969;}#sk-container-id-1 label.sk-toggleable__label-arrow:hover:before {color: black;}#sk-container-id-1 div.sk-estimator:hover label.sk-toggleable__label-arrow:before {color: black;}#sk-container-id-1 div.sk-toggleable__content {max-height: 0;max-width: 0;overflow: hidden;text-align: left;background-color: #f0f8ff;}#sk-container-id-1 div.sk-toggleable__content pre {margin: 0.2em;color: black;border-radius: 0.25em;background-color: #f0f8ff;}#sk-container-id-1 input.sk-toggleable__control:checked~div.sk-toggleable__content {max-height: 200px;max-width: 100%;overflow: auto;}#sk-container-id-1 input.sk-toggleable__control:checked~label.sk-toggleable__label-arrow:before {content: \"▾\";}#sk-container-id-1 div.sk-estimator input.sk-toggleable__control:checked~label.sk-toggleable__label {background-color: #d4ebff;}#sk-container-id-1 div.sk-label input.sk-toggleable__control:checked~label.sk-toggleable__label {background-color: #d4ebff;}#sk-container-id-1 input.sk-hidden--visually {border: 0;clip: rect(1px 1px 1px 1px);clip: rect(1px, 1px, 1px, 1px);height: 1px;margin: -1px;overflow: hidden;padding: 0;position: absolute;width: 1px;}#sk-container-id-1 div.sk-estimator {font-family: monospace;background-color: #f0f8ff;border: 1px dotted black;border-radius: 0.25em;box-sizing: border-box;margin-bottom: 0.5em;}#sk-container-id-1 div.sk-estimator:hover {background-color: #d4ebff;}#sk-container-id-1 div.sk-parallel-item::after {content: \"\";width: 100%;border-bottom: 1px solid gray;flex-grow: 1;}#sk-container-id-1 div.sk-label:hover label.sk-toggleable__label {background-color: #d4ebff;}#sk-container-id-1 div.sk-serial::before {content: \"\";position: absolute;border-left: 1px solid gray;box-sizing: border-box;top: 0;bottom: 0;left: 50%;z-index: 0;}#sk-container-id-1 div.sk-serial {display: flex;flex-direction: column;align-items: center;background-color: white;padding-right: 0.2em;padding-left: 0.2em;position: relative;}#sk-container-id-1 div.sk-item {position: relative;z-index: 1;}#sk-container-id-1 div.sk-parallel {display: flex;align-items: stretch;justify-content: center;background-color: white;position: relative;}#sk-container-id-1 div.sk-item::before, #sk-container-id-1 div.sk-parallel-item::before {content: \"\";position: absolute;border-left: 1px solid gray;box-sizing: border-box;top: 0;bottom: 0;left: 50%;z-index: -1;}#sk-container-id-1 div.sk-parallel-item {display: flex;flex-direction: column;z-index: 1;position: relative;background-color: white;}#sk-container-id-1 div.sk-parallel-item:first-child::after {align-self: flex-end;width: 50%;}#sk-container-id-1 div.sk-parallel-item:last-child::after {align-self: flex-start;width: 50%;}#sk-container-id-1 div.sk-parallel-item:only-child::after {width: 0;}#sk-container-id-1 div.sk-dashed-wrapped {border: 1px dashed gray;margin: 0 0.4em 0.5em 0.4em;box-sizing: border-box;padding-bottom: 0.4em;background-color: white;}#sk-container-id-1 div.sk-label label {font-family: monospace;font-weight: bold;display: inline-block;line-height: 1.2em;}#sk-container-id-1 div.sk-label-container {text-align: center;}#sk-container-id-1 div.sk-container {/* jupyter's `normalize.less` sets `[hidden] { display: none; }` but bootstrap.min.css set `[hidden] { display: none !important; }` so we also need the `!important` here to be able to override the default hidden behavior on the sphinx rendered scikit-learn.org. See: https://github.com/scikit-learn/scikit-learn/issues/21755 */display: inline-block !important;position: relative;}#sk-container-id-1 div.sk-text-repr-fallback {display: none;}</style><div id=\"sk-container-id-1\" class=\"sk-top-container\"><div class=\"sk-text-repr-fallback\"><pre>RandomForestRegressor()</pre><b>In a Jupyter environment, please rerun this cell to show the HTML representation or trust the notebook. <br />On GitHub, the HTML representation is unable to render, please try loading this page with nbviewer.org.</b></div><div class=\"sk-container\" hidden><div class=\"sk-item\"><div class=\"sk-estimator sk-toggleable\"><input class=\"sk-toggleable__control sk-hidden--visually\" id=\"sk-estimator-id-1\" type=\"checkbox\" checked><label for=\"sk-estimator-id-1\" class=\"sk-toggleable__label sk-toggleable__label-arrow\">RandomForestRegressor</label><div class=\"sk-toggleable__content\"><pre>RandomForestRegressor()</pre></div></div></div></div></div>"
            ]
          },
          "metadata": {},
          "execution_count": 39
        }
      ]
    },
    {
      "cell_type": "code",
      "source": [
        "# Passo 7: Interpretação dos resultados.\n",
        "previsao_modelo_RL = modelo_RL.predict(x_teste)\n",
        "previsao_modelo_AD = modelo_AD.predict (x_teste)\n",
        "\n",
        "tabela_comp = pd.DataFrame()\n",
        "tabela_comp['teste'] = y_teste\n",
        "tabela_comp['resultado RL'] = previsao_modelo_RL\n",
        "tabela_comp['resultado AD'] = previsao_modelo_AD\n",
        "sns.lineplot(data=tabela_comp)"
      ],
      "metadata": {
        "colab": {
          "base_uri": "https://localhost:8080/",
          "height": 463
        },
        "id": "cVx2KyFLvMN0",
        "outputId": "23b5fbc7-97d5-4e9b-d57a-38478079a44f"
      },
      "execution_count": 58,
      "outputs": [
        {
          "output_type": "execute_result",
          "data": {
            "text/plain": [
              "<Axes: >"
            ]
          },
          "metadata": {},
          "execution_count": 58
        },
        {
          "output_type": "display_data",
          "data": {
            "text/plain": [
              "<Figure size 640x480 with 1 Axes>"
            ],
            "image/png": "[encoded data removed]"
          },
          "metadata": {}
        }
      ]
    },
    {
      "cell_type": "code",
      "source": [
        "from sklearn.metrics import r2_score\n",
        "\n",
        "print(f'A acurácia do modelo de Regressão Linear (R.L.) é de {r2_score(y_teste, previsao_modelo_RL):,.2%}.')\n",
        "print(f'Já a acurácia do modelo de Àrvore de Decisões (A.D.) foi de {r2_score(y_teste, previsao_modelo_AD):,.2%}.')\n"
      ],
      "metadata": {
        "colab": {
          "base_uri": "https://localhost:8080/"
        },
        "id": "alSn3Q1w3ZFF",
        "outputId": "3a2c11ce-42c1-472d-d49e-6005a2d3f76f"
      },
      "execution_count": 76,
      "outputs": [
        {
          "output_type": "stream",
          "name": "stdout",
          "text": [
            "A acurácia do modelo de Regressão Linear é de 41.94%.\n",
            "Já a acurácia do modelo de Àrvore de Decisões foi de 83.46%.\n"
          ]
        }
      ]
    }
  ]
}